{
  "nbformat": 4,
  "nbformat_minor": 0,
  "metadata": {
    "colab": {
      "name": "CDS_week4_gradient.ipynb",
      "provenance": [],
      "collapsed_sections": []
    },
    "kernelspec": {
      "name": "python3",
      "display_name": "Python 3"
    },
    "language_info": {
      "name": "python"
    }
  },
  "cells": [
    {
      "cell_type": "code",
      "metadata": {
        "colab": {
          "base_uri": "https://localhost:8080/"
        },
        "id": "d5S7f-pBxyKi",
        "outputId": "1bd155dc-eb03-405b-b98f-7756246937eb"
      },
      "source": [
        "from keras.datasets import mnist\n",
        "import numpy as np\n",
        "import math\n",
        "import matplotlib\n",
        "import matplotlib.pyplot as plt\n",
        "import sklearn.datasets as dt\n",
        "from sklearn.model_selection import train_test_split\n",
        "\n",
        "(train_X, train_y), (test_X, test_y) = mnist.load_data()\n",
        "\n",
        "print('X_train: ' + str(train_X.shape))\n",
        "print('Y_train: ' + str(train_y.shape))\n",
        "print('X_test:  '  + str(test_X.shape))\n",
        "print('Y_test:  '  + str(test_y.shape))\n",
        "\n",
        "train_filter = np.where((train_y == 3 ) | (train_y == 7))\n",
        "test_filter = np.where((test_y == 3) | (test_y == 7))\n",
        "\n",
        "X_train, Y_train = train_X[train_filter], train_y[train_filter]\n",
        "X_test, Y_test = test_X[test_filter], test_y[test_filter]\n",
        "\n",
        "print('X_train: ' + str(X_train.shape))\n",
        "print('Y_train: ' + str(Y_train.shape))\n",
        "print('X_test:  '  + str(X_test.shape))\n",
        "print('Y_test:  '  + str(Y_test.shape))\n",
        "\n",
        "# Flatten \n",
        "X_train = X_train.reshape(12396, 784)\n",
        "X_test = X_test.reshape(2038, 784)\n",
        "\n",
        "# Normalize\n",
        "X_train = X_train / 255\n",
        "X_test = X_test / 255\n",
        "\n",
        "print('X_train: ' + str(X_train.shape))\n",
        "print('Y_train: ' + str(Y_train.shape))\n",
        "print('X_test:  '  + str(X_test.shape))\n",
        "print('Y_test:  '  + str(Y_test.shape))"
      ],
      "execution_count": 124,
      "outputs": [
        {
          "output_type": "stream",
          "name": "stdout",
          "text": [
            "X_train: (60000, 28, 28)\n",
            "Y_train: (60000,)\n",
            "X_test:  (10000, 28, 28)\n",
            "Y_test:  (10000,)\n",
            "X_train: (12396, 28, 28)\n",
            "Y_train: (12396,)\n",
            "X_test:  (2038, 28, 28)\n",
            "Y_test:  (2038,)\n",
            "X_train: (12396, 784)\n",
            "Y_train: (12396,)\n",
            "X_test:  (2038, 784)\n",
            "Y_test:  (2038,)\n"
          ]
        }
      ]
    },
    {
      "cell_type": "code",
      "metadata": {
        "id": "ou3KNee2wZZO"
      },
      "source": [
        "class Gradient:\n",
        "  def __init__(self, w_init, learning_rate, iterations):\n",
        "      self.iterations = iterations\n",
        "      self.w = w_init\n",
        "      self.learning_rate = learning_rate\n",
        "      self.y = np.array([])\n",
        "      self.dim = 784\n",
        "    \n",
        "  def train(self, X, T):\n",
        "      N = len(X)\n",
        "      final_y = []\n",
        "      E_plot = np.array([])\n",
        "      for i in range(self.iterations):\n",
        "        learned_y = self.get_y(X, self.w)\n",
        "        dw = self.GD(X, learned_y, T, N)\n",
        "        self.w -= dw\n",
        "        final_y = learned_y\n",
        "        E_plot = np.append(E_plot, self.MSE(final_y, T))\n",
        "      self.plot(E_plot)\n",
        "      \n",
        "\n",
        "  def MSE(self, Y, T):\n",
        "    return np.mean(np.square(Y - T))\n",
        "\n",
        "  def plot(self, xy):\n",
        "    plt.title('MSE over iterations')\n",
        "    plt.xlabel('Iteration')\n",
        "    plt.ylabel('MSE value')\n",
        "    plt.plot(xy)\n",
        "\n",
        "  def GD(self, X, Y, T, N):\n",
        "      total = np.array([])\n",
        "      #for i , 1 ... d\n",
        "      for i in range(self.dim):\n",
        "          \n",
        "          #subtract vector t from y\n",
        "          sub = np.subtract(Y,T) # this had the error was scalar instead of vector\n",
        "          #take 1/N the inner product of this vector and the vector x[i] which is equal 1/N times the sum of elementwise multiplication\n",
        "          gradres = np.dot(sub, X.T[i])/N\n",
        "          total = np.append(total, gradres)\n",
        "\n",
        "      return self.learning_rate * (total)\n",
        "\n",
        "  def sigmoid(self, x):\n",
        "      return (1/(1+np.exp(-x)))\n",
        "\n",
        "  def get_y(self, x, w):\n",
        "    self.y = np.array([])\n",
        "    for x_u in x:\n",
        "      #dot product of w,x^u\n",
        "      wx = np.dot(w, x_u) \n",
        "\n",
        "      # sigmoid function on this inner product\n",
        "      y_u = self.sigmoid(wx)\n",
        "     \n",
        "      # y is a vector over the u\n",
        "      self.y = np.append(self.y, y_u)\n",
        "\n",
        "    return(self.y)"
      ],
      "execution_count": 133,
      "outputs": []
    },
    {
      "cell_type": "code",
      "metadata": {
        "id": "PFHxMZ800Vyi",
        "colab": {
          "base_uri": "https://localhost:8080/",
          "height": 295
        },
        "outputId": "a81d5cb2-9fa4-440b-eac3-a95b5da0a4db"
      },
      "source": [
        "gradient = Gradient(np.random.uniform(size=784), 0.01, 10)\n",
        "gradient.train(X_train, Y_train)"
      ],
      "execution_count": 134,
      "outputs": [
        {
          "output_type": "display_data",
          "data": {
            "image/png": "[encoded data removed]",
            "text/plain": [
              "<Figure size 432x288 with 1 Axes>"
            ]
          },
          "metadata": {
            "needs_background": "light"
          }
        }
      ]
    },
    {
      "cell_type": "code",
      "metadata": {
        "id": "EczaMNGUA0bd"
      },
      "source": [
        "class Momentum:\n",
        "  def __init__(self, w_init, learning_rate, iterations, momentum):\n",
        "      self.momentum = momentum\n",
        "      self.iterations = iterations\n",
        "      self.w = w_init\n",
        "      self.learning_rate = learning_rate\n",
        "      self.y = np.array([])\n",
        "      self.dim = 784\n",
        "    \n",
        "  def train(self, X, T):\n",
        "      N = len(X)\n",
        "      final_y = []\n",
        "      dw = 0\n",
        "      E_plot = np.array([])\n",
        "      for i in range(self.iterations):\n",
        "        learned_y = self.get_y(X, self.w)\n",
        "        dw = self.GD(X, learned_y, T, N, dw)\n",
        "        self.w -= dw\n",
        "        final_y = learned_y  \n",
        "        E_plot = np.append(E_plot, self.MSE(final_y, T))\n",
        "      self.plot(E_plot)\n",
        "\n",
        "  def MSE(self, Y, T):\n",
        "    return np.mean(np.square(Y - T))\n",
        "\n",
        "  def plot(self, xy):\n",
        "    plt.title('MSE over iterations with Momentum')\n",
        "    plt.xlabel('Iteration')\n",
        "    plt.ylabel('MSE value')\n",
        "    plt.plot(xy)\n",
        "\n",
        "  def GD(self, X, Y, T, N, dw = 0):\n",
        "      total = np.array([])\n",
        "      #for i , 1 ... d\n",
        "      for i in range(self.dim):\n",
        "          \n",
        "          #subtract vector t from y\n",
        "          sub = np.subtract(Y,T) # this had the error was scalar instead of vector\n",
        "          #take 1/N the inner product of this vector and the vector x[i] which is equal 1/N times the sum of elementwise multiplication\n",
        "          gradres = np.dot(sub, X.T[i])/N\n",
        "          total = np.append(total, gradres)\n",
        "\n",
        "      return self.learning_rate * (total) + self.momentum * dw\n",
        "\n",
        "  def sigmoid(self, x):\n",
        "      return (1/(1+np.exp(-x)))\n",
        "\n",
        "  def get_y(self, x, w):\n",
        "    self.y = np.array([])\n",
        "    for x_u in x:\n",
        "      #dot product of w,x^u\n",
        "      wx = np.dot(w, x_u) \n",
        "\n",
        "      # sigmoid function on this inner product\n",
        "      y_u = self.sigmoid(wx)\n",
        "     \n",
        "      # y is a vector over the u\n",
        "      self.y = np.append(self.y, y_u)\n",
        "\n",
        "    return(self.y)"
      ],
      "execution_count": 142,
      "outputs": []
    },
    {
      "cell_type": "code",
      "metadata": {
        "colab": {
          "base_uri": "https://localhost:8080/",
          "height": 295
        },
        "id": "GmXRCxWuJb2v",
        "outputId": "40e20522-33ee-483d-8080-ea592988bfe7"
      },
      "source": [
        "momentum = Momentum(np.random.uniform(size=784), 0.01, 10, 0.9)\n",
        "momentum.train(X_train, Y_train)"
      ],
      "execution_count": 143,
      "outputs": [
        {
          "output_type": "display_data",
          "data": {
            "image/png": "[encoded data removed]",
            "text/plain": [
              "<Figure size 432x288 with 1 Axes>"
            ]
          },
          "metadata": {
            "needs_background": "light"
          }
        }
      ]
    },
    {
      "cell_type": "code",
      "metadata": {
        "id": "SkDfoGekMrtp"
      },
      "source": [
        "class SGD:\n",
        "  def __init__(self, w_init, learning_rate, iterations, batches):\n",
        "      self.batches = batches\n",
        "      self.iterations = iterations\n",
        "      self.w = w_init\n",
        "      self.learning_rate = learning_rate\n",
        "      self.y = np.array([])\n",
        "      self.dim = 784\n",
        "    \n",
        "  def train(self, X, T):\n",
        "      N = self.batches\n",
        "      # Hard coded\n",
        "      X = np.split(X, N)\n",
        "      T = np.split(T, N)\n",
        "      final_y = []\n",
        "      E_plot = np.array([])\n",
        "      for i in range(self.iterations):\n",
        "        # Batch update\n",
        "        for j in range(N):\n",
        "\n",
        "          learned_y = self.get_y(X[j], self.w)\n",
        "          dw = self.GD(X[j], learned_y, T[j], N)\n",
        "          self.w -= dw\n",
        "          final_y = learned_y\n",
        "          E_plot = np.append(E_plot, self.MSE(final_y, T))\n",
        "      self.plot(E_plot)\n",
        "\n",
        "  def MSE(self, Y, T):\n",
        "    return np.mean(np.square(Y - T))\n",
        "  \n",
        "  def plot(self, xy):\n",
        "    # Didn't manage in time to fix x axis labels to 0,10 with ticks instead of 0,120\n",
        "    plt.title('MSE over iterations with SGD')\n",
        "    plt.xlabel('Iteration')\n",
        "    plt.ylabel('MSE value')\n",
        "    plt.plot(xy)\n",
        "\n",
        "  def GD(self, X, Y, T, N):\n",
        "      total = np.array([])\n",
        "      #for i , 1 ... d\n",
        "      for i in range(self.dim):\n",
        "          \n",
        "          #subtract vector t from y\n",
        "          sub = np.subtract(Y,T) # this had the error was scalar instead of vector\n",
        "          #take 1/N the inner product of this vector and the vector x[i] which is equal 1/N times the sum of elementwise multiplication\n",
        "          gradres = np.dot(sub, X.T[i])/N\n",
        "          total = np.append(total, gradres)\n",
        "\n",
        "      return self.learning_rate * (total)\n",
        "\n",
        "  def sigmoid(self, x):\n",
        "      return (1/(1+np.exp(-x)))\n",
        "\n",
        "  def get_y(self, x, w):\n",
        "    self.y = np.array([])\n",
        "    for x_u in x:\n",
        "      #dot product of w,x^u\n",
        "      wx = np.dot(w, x_u) \n",
        "\n",
        "      # sigmoid function on this inner product\n",
        "      y_u = self.sigmoid(wx)\n",
        "     \n",
        "      # y is a vector over the u\n",
        "      self.y = np.append(self.y, y_u)\n",
        "\n",
        "    return(self.y)"
      ],
      "execution_count": 177,
      "outputs": []
    },
    {
      "cell_type": "code",
      "metadata": {
        "colab": {
          "base_uri": "https://localhost:8080/",
          "height": 295
        },
        "id": "drw58wyHMr2d",
        "outputId": "e0e118cf-a04e-40f3-cc28-044d6e1e3f25"
      },
      "source": [
        "sgd = SGD(np.random.uniform(size=784), 0.01, 10, 12)\n",
        "sgd.train(X_train, Y_train)"
      ],
      "execution_count": 178,
      "outputs": [
        {
          "output_type": "display_data",
          "data": {
            "image/png": "[encoded data removed]",
            "text/plain": [
              "<Figure size 432x288 with 1 Axes>"
            ]
          },
          "metadata": {
            "needs_background": "light"
          }
        }
      ]
    },
    {
      "cell_type": "markdown",
      "metadata": {
        "id": "-6_ViJnH2Pfh"
      },
      "source": [
        "# Discussion: \n",
        "Discuss how the results for this problem (logisitic regression on the MNIST data) are expected to change for other data sets (more samples N or more variables n) and methods (more variables w such as deep neural networks). \n",
        "\n",
        "ANSWER: </br>\n",
        "More samples N can never be a bad thing for logistic regression, or any model, because we use data to train and the more data the more we can train without overfitting.\n",
        "\n",
        "More variables n would mean that we could run into problems if there are to many variables. This would be caused by the phenomenon called curse of dimensionality. The more variables the harder it is to compute.\n",
        "\n",
        "More variables w as in deep neural network would most of the time give a better result. this however has some drawbacks such as being harder to compute, risking overfitting if regularization is not added. "
      ]
    },
    {
      "cell_type": "code",
      "metadata": {
        "id": "EzFa4ucM2SDb"
      },
      "source": [
        ""
      ],
      "execution_count": null,
      "outputs": []
    }
  ]
}