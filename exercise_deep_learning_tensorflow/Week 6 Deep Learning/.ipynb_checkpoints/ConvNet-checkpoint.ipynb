{
 "cells": [
  {
   "cell_type": "code",
   "execution_count": 1,
   "id": "82ba43f0",
   "metadata": {},
   "outputs": [],
   "source": [
    "from __future__ import absolute_import, division, print_function, unicode_literals\n",
    "\n",
    "import tensorflow as tf\n",
    "\n",
    "from tensorflow.keras import datasets, layers, models\n",
    "import matplotlib.pyplot as plt"
   ]
  },
  {
   "cell_type": "code",
   "execution_count": 2,
   "id": "1b3f8bce",
   "metadata": {},
   "outputs": [],
   "source": [
    "(train_images, train_labels), (test_images, test_labels) = datasets.cifar10.load_data()\n",
    "\n",
    "# Normalize pixel values to be between 0 and 1\n",
    "train_images, test_images = train_images / 255.0, test_images / 255.0"
   ]
  },
  {
   "cell_type": "markdown",
   "id": "f206b28b",
   "metadata": {},
   "source": [
    "3- Convolutional Networks. Study the performance properties of the convolutional network provided in the Tensorflow tutorial. How is \n",
    "the learning affected if instead of ReLU units, tanh() activations are used? What is the reason for this? Compare also\n",
    "at least two different optimizer algorithms."
   ]
  },
  {
   "cell_type": "markdown",
   "id": "bf5dee44",
   "metadata": {},
   "source": [
    "YOUR ANWSER HERE:\n",
    "\n",
    "differnce ReLu and tanh: <br />\n",
    "\n",
    "Tanh:</br> \n",
    "Tanh is a non-linear zero centered activation function that ranges between -1 and 1</br>\n",
    "ReLU: </br>\n",
    "ReLU is a linear activation function that ranges from 0 to infinity\n",
    "\n",
    "The differnce between these two activation functions lies in how the gradient is calculated. ReLu is max(0,x), which means the gradient will be 0 when negative and 1 when positive. This is so that the we have sparce activation because of the non zero output and less issues of a vanishing gradient. This is not the case in Tanh. With this activation function we can suffer from the issue that is called the vanishing gradient. With Tanh we need to backpropagate from back to front. If you have a deep network and gradients smaller than 1 you will run into the problem that your loss is very small. with a small loss training becomes very slow."
   ]
  },
  {
   "cell_type": "markdown",
   "id": "ab25db2c",
   "metadata": {},
   "source": [
    "OPTIMIZERS:\n",
    "\n",
    "Momentum (SGD):</br>\n",
    "Firstly let's look at a stochastic gradient descent optimizer. One of the more popular versions of SGD is with momentum. SGD has trouble navigating areas where the surface curves much more steeply in one dimension than in another. This is ofcourse common in local optima. Momentum can help SGD by accelerating in the relevant direction. When using a normal SGD we can see it as a ball rolling down a hill. Momentum let's the ball accelerate. It does this by adding a fraction γ of the update vector of the past time step to the current update vector. $v_t = γ * v_{t-1} + \\eta \\nabla\n",
    "E(\\theta)$</br>\n",
    "$\\theta = \\theta - v_t$\n",
    "\n",
    "Adam: </br>\n",
    "Adaptive Moment Estimation (Adam) is a method that computes an adaptive learning rates for each parameter. It stores an exponentially decaying average of past squared gradients called $v_t$.\n",
    "Adam also keeps an exponentially decaying average of past gradients called $m_t$ which is similar to momentum which is explained above.</br>\n",
    "$m_t = \\beta_1 m_{t-1} + (1 - \\beta_1)g_t$</br>\n",
    "$v_t = \\beta_2 v_{t-1} + (1 - \\beta_2)g^2_t$</br>\n",
    "$m_t$ and $v_t$ are estimates of the first moment (the mean) and the second moment (the uncentered variance) of the gradients. $\\beta_1$ and $\\beta_2$ are hyperparameters. \n",
    "\n",
    "\n",
    "The biggest difference between Adam and momentum is that Adam implements a variation of momentum + an extra variable $v_t$ which stores exponentially decaying average of past squared gradients. With this extra variable Adam is more flexable then momentum."
   ]
  },
  {
   "cell_type": "code",
   "execution_count": 3,
   "id": "8a4970ae",
   "metadata": {},
   "outputs": [
    {
     "name": "stdout",
     "output_type": "stream",
     "text": [
      "Model: \"sequential\"\n",
      "_________________________________________________________________\n",
      "Layer (type)                 Output Shape              Param #   \n",
      "=================================================================\n",
      "conv2d (Conv2D)              (None, 30, 30, 32)        896       \n",
      "_________________________________________________________________\n",
      "max_pooling2d (MaxPooling2D) (None, 15, 15, 32)        0         \n",
      "_________________________________________________________________\n",
      "conv2d_1 (Conv2D)            (None, 13, 13, 64)        18496     \n",
      "_________________________________________________________________\n",
      "max_pooling2d_1 (MaxPooling2 (None, 6, 6, 64)          0         \n",
      "_________________________________________________________________\n",
      "conv2d_2 (Conv2D)            (None, 4, 4, 64)          36928     \n",
      "_________________________________________________________________\n",
      "flatten (Flatten)            (None, 1024)              0         \n",
      "_________________________________________________________________\n",
      "dense (Dense)                (None, 64)                65600     \n",
      "_________________________________________________________________\n",
      "dense_1 (Dense)              (None, 10)                650       \n",
      "=================================================================\n",
      "Total params: 122,570\n",
      "Trainable params: 122,570\n",
      "Non-trainable params: 0\n",
      "_________________________________________________________________\n"
     ]
    }
   ],
   "source": [
    "# Building the model\n",
    "model1 = models.Sequential()\n",
    "model1.add(layers.Conv2D(32, (3, 3), activation='relu', input_shape=(32, 32, 3)))\n",
    "model1.add(layers.MaxPooling2D((2, 2)))\n",
    "model1.add(layers.Conv2D(64, (3, 3), activation='relu'))\n",
    "model1.add(layers.MaxPooling2D((2, 2)))\n",
    "model1.add(layers.Conv2D(64, (3, 3), activation='relu'))\n",
    "model1.add(layers.Flatten())\n",
    "model1.add(layers.Dense(64, activation='relu'))\n",
    "model1.add(layers.Dense(10, activation='softmax'))\n",
    "\n",
    "model1.summary()"
   ]
  },
  {
   "cell_type": "code",
   "execution_count": 9,
   "id": "f54c9ec7",
   "metadata": {},
   "outputs": [
    {
     "name": "stdout",
     "output_type": "stream",
     "text": [
      "Epoch 1/10\n",
      "1563/1563 [==============================] - 40s 25ms/step - loss: 1.7499 - accuracy: 0.3526 - val_loss: 1.2083 - val_accuracy: 0.5648\n",
      "Epoch 2/10\n",
      "1563/1563 [==============================] - 38s 24ms/step - loss: 1.2023 - accuracy: 0.5749 - val_loss: 1.0638 - val_accuracy: 0.6205\n",
      "Epoch 3/10\n",
      "1563/1563 [==============================] - 37s 24ms/step - loss: 1.0289 - accuracy: 0.6408 - val_loss: 0.9845 - val_accuracy: 0.6519\n",
      "Epoch 4/10\n",
      "1563/1563 [==============================] - 39s 25ms/step - loss: 0.9167 - accuracy: 0.6790 - val_loss: 0.9366 - val_accuracy: 0.6799\n",
      "Epoch 5/10\n",
      "1563/1563 [==============================] - 38s 24ms/step - loss: 0.8384 - accuracy: 0.7030 - val_loss: 0.9013 - val_accuracy: 0.6901\n",
      "Epoch 6/10\n",
      "1563/1563 [==============================] - 39s 25ms/step - loss: 0.7815 - accuracy: 0.7260 - val_loss: 0.8810 - val_accuracy: 0.7031\n",
      "Epoch 7/10\n",
      "1563/1563 [==============================] - 38s 25ms/step - loss: 0.7320 - accuracy: 0.7418 - val_loss: 0.9004 - val_accuracy: 0.6908\n",
      "Epoch 8/10\n",
      "1563/1563 [==============================] - 38s 24ms/step - loss: 0.6783 - accuracy: 0.7627 - val_loss: 0.8792 - val_accuracy: 0.6999\n",
      "Epoch 9/10\n",
      "1563/1563 [==============================] - 33s 21ms/step - loss: 0.6433 - accuracy: 0.7737 - val_loss: 0.9052 - val_accuracy: 0.7004\n",
      "Epoch 10/10\n",
      "1563/1563 [==============================] - 25s 16ms/step - loss: 0.6035 - accuracy: 0.7873 - val_loss: 0.9417 - val_accuracy: 0.6865\n",
      "313/313 - 2s - loss: 0.9417 - accuracy: 0.6865\n"
     ]
    }
   ],
   "source": [
    "model1.compile(optimizer='adam',\n",
    "              loss='sparse_categorical_crossentropy',\n",
    "              metrics=['accuracy'])\n",
    "\n",
    "history1 = model1.fit(train_images, train_labels, epochs=10, validation_data=(test_images, test_labels))\n",
    "test_loss1, test_acc1 = model1.evaluate(test_images,  test_labels, verbose=2)"
   ]
  },
  {
   "cell_type": "code",
   "execution_count": 10,
   "id": "32272212",
   "metadata": {},
   "outputs": [
    {
     "data": {
      "text/plain": [
       "<matplotlib.legend.Legend at 0x22e9c605970>"
      ]
     },
     "execution_count": 10,
     "metadata": {},
     "output_type": "execute_result"
    },
    {
     "data": {
      "image/png": "[encoded data removed]",
      "text/plain": [
       "<Figure size 432x288 with 1 Axes>"
      ]
     },
     "metadata": {
      "needs_background": "light"
     },
     "output_type": "display_data"
    }
   ],
   "source": [
    "plt.plot(history1.history['accuracy'], label='accuracy')\n",
    "plt.plot(history1.history['val_accuracy'], label = 'val_accuracy')\n",
    "plt.xlabel('Epoch')\n",
    "plt.ylabel('Accuracy')\n",
    "plt.ylim([0.5, 1])\n",
    "plt.legend(loc='lower right')"
   ]
  },
  {
   "cell_type": "markdown",
   "id": "16f53e4c",
   "metadata": {},
   "source": [
    "4- Try to outperform the convolutional network of part 3 with a MLP that uses approximately the same number of parameters.\n",
    "Report your results and explain them."
   ]
  },
  {
   "cell_type": "markdown",
   "id": "e60719e9",
   "metadata": {},
   "source": [
    "YOUR ANWSER HERE:\n",
    "\n",
    "The thing we want to improve on is the validation accuracy since this gives us a better indication of how the model will react to unknown data. Without adjusting the existing amount of trainable paramters we can do some simple steps to improve the performance. 1 way which we didn't add because we were unsure if it was allowed is to do a lot of data augmentation, because with more data the model can train more. The things we did add mostly work on regurilization, such as dropout, BatchNormalization and L1 and L2. With this the model learns to not really on certain nodes, by randomly letting them drop, or adding a penalty for heaving weights that are to 'heavy'.\n",
    "\n"
   ]
  },
  {
   "cell_type": "code",
   "execution_count": null,
   "id": "5550a5d1",
   "metadata": {},
   "outputs": [],
   "source": [
    "# from keras.preprocessing.image import ImageDataGenerator"
   ]
  },
  {
   "cell_type": "code",
   "execution_count": 15,
   "id": "ad841e66",
   "metadata": {},
   "outputs": [
    {
     "name": "stdout",
     "output_type": "stream",
     "text": [
      "Model: \"sequential_4\"\n",
      "_________________________________________________________________\n",
      "Layer (type)                 Output Shape              Param #   \n",
      "=================================================================\n",
      "conv2d_12 (Conv2D)           (None, 30, 30, 32)        896       \n",
      "_________________________________________________________________\n",
      "leaky_re_lu_4 (LeakyReLU)    (None, 30, 30, 32)        0         \n",
      "_________________________________________________________________\n",
      "max_pooling2d_8 (MaxPooling2 (None, 15, 15, 32)        0         \n",
      "_________________________________________________________________\n",
      "conv2d_13 (Conv2D)           (None, 13, 13, 64)        18496     \n",
      "_________________________________________________________________\n",
      "leaky_re_lu_5 (LeakyReLU)    (None, 13, 13, 64)        0         \n",
      "_________________________________________________________________\n",
      "max_pooling2d_9 (MaxPooling2 (None, 6, 6, 64)          0         \n",
      "_________________________________________________________________\n",
      "dropout_7 (Dropout)          (None, 6, 6, 64)          0         \n",
      "_________________________________________________________________\n",
      "conv2d_14 (Conv2D)           (None, 4, 4, 64)          36928     \n",
      "_________________________________________________________________\n",
      "leaky_re_lu_6 (LeakyReLU)    (None, 4, 4, 64)          0         \n",
      "_________________________________________________________________\n",
      "flatten_4 (Flatten)          (None, 1024)              0         \n",
      "_________________________________________________________________\n",
      "dropout_8 (Dropout)          (None, 1024)              0         \n",
      "_________________________________________________________________\n",
      "dense_8 (Dense)              (None, 64)                65600     \n",
      "_________________________________________________________________\n",
      "leaky_re_lu_7 (LeakyReLU)    (None, 64)                0         \n",
      "_________________________________________________________________\n",
      "batch_normalization_3 (Batch (None, 64)                256       \n",
      "_________________________________________________________________\n",
      "dense_9 (Dense)              (None, 10)                650       \n",
      "=================================================================\n",
      "Total params: 122,826\n",
      "Trainable params: 122,698\n",
      "Non-trainable params: 128\n",
      "_________________________________________________________________\n"
     ]
    }
   ],
   "source": [
    "model2 = models.Sequential()\n",
    "model2.add(layers.Conv2D(32, (3, 3), input_shape=(32, 32, 3)))\n",
    "model2.add(layers.LeakyReLU()),\n",
    "model2.add(layers.MaxPooling2D((2, 2)))\n",
    "model2.add(layers.Conv2D(64, (3, 3)))\n",
    "model2.add(layers.LeakyReLU()),\n",
    "model2.add(layers.MaxPooling2D((2, 2)))\n",
    "model2.add(layers.Dropout(0.4))\n",
    "model2.add(layers.Conv2D(64, (3, 3)))\n",
    "model2.add(layers.LeakyReLU()),\n",
    "model2.add(layers.Flatten())\n",
    "model2.add(layers.Dropout(0.5))\n",
    "model2.add(layers.Dense(64))\n",
    "model2.add(layers.LeakyReLU()),\n",
    "model2.add(layers.BatchNormalization())\n",
    "model2.add(layers.Dense(10, activation='softmax'))\n",
    "\n",
    "model2.summary()"
   ]
  },
  {
   "cell_type": "code",
   "execution_count": 16,
   "id": "9f5c8e84",
   "metadata": {},
   "outputs": [
    {
     "name": "stdout",
     "output_type": "stream",
     "text": [
      "Epoch 1/10\n",
      "1563/1563 [==============================] - 36s 23ms/step - loss: 1.5896 - accuracy: 0.4301 - val_loss: 1.4698 - val_accuracy: 0.4888\n",
      "Epoch 2/10\n",
      "1563/1563 [==============================] - 36s 23ms/step - loss: 1.2334 - accuracy: 0.5637 - val_loss: 1.1551 - val_accuracy: 0.5899\n",
      "Epoch 3/10\n",
      "1563/1563 [==============================] - 34s 22ms/step - loss: 1.1251 - accuracy: 0.6035 - val_loss: 1.1018 - val_accuracy: 0.6119\n",
      "Epoch 4/10\n",
      "1563/1563 [==============================] - 34s 22ms/step - loss: 1.0634 - accuracy: 0.6257 - val_loss: 1.0056 - val_accuracy: 0.6430\n",
      "Epoch 5/10\n",
      "1563/1563 [==============================] - 33s 21ms/step - loss: 1.0222 - accuracy: 0.6439 - val_loss: 0.8984 - val_accuracy: 0.6872\n",
      "Epoch 6/10\n",
      "1563/1563 [==============================] - 31s 20ms/step - loss: 0.9887 - accuracy: 0.6546 - val_loss: 0.8525 - val_accuracy: 0.7062\n",
      "Epoch 7/10\n",
      "1563/1563 [==============================] - 35s 23ms/step - loss: 0.9606 - accuracy: 0.6647 - val_loss: 0.8692 - val_accuracy: 0.6957\n",
      "Epoch 8/10\n",
      "1563/1563 [==============================] - 32s 20ms/step - loss: 0.9346 - accuracy: 0.6747 - val_loss: 0.9393 - val_accuracy: 0.6748\n",
      "Epoch 9/10\n",
      "1563/1563 [==============================] - 31s 20ms/step - loss: 0.9248 - accuracy: 0.6759 - val_loss: 0.8490 - val_accuracy: 0.7085\n",
      "Epoch 10/10\n",
      "1563/1563 [==============================] - 36s 23ms/step - loss: 0.9039 - accuracy: 0.6839 - val_loss: 0.8169 - val_accuracy: 0.7123\n",
      "313/313 - 2s - loss: 0.8169 - accuracy: 0.7123\n"
     ]
    }
   ],
   "source": [
    "model2.compile(optimizer='adam',\n",
    "              loss='sparse_categorical_crossentropy',\n",
    "              metrics=['accuracy'])\n",
    "\n",
    "history2 = model2.fit(train_images, train_labels, epochs=10, validation_data=(test_images, test_labels))\n",
    "test_loss2, test_acc2 = model2.evaluate(test_images,  test_labels, verbose=2)"
   ]
  },
  {
   "cell_type": "code",
   "execution_count": 17,
   "id": "29b6bc64",
   "metadata": {},
   "outputs": [
    {
     "data": {
      "text/plain": [
       "<matplotlib.legend.Legend at 0x1ff2406b790>"
      ]
     },
     "execution_count": 17,
     "metadata": {},
     "output_type": "execute_result"
    },
    {
     "data": {
      "image/png": "[encoded data removed]",
      "text/plain": [
       "<Figure size 432x288 with 1 Axes>"
      ]
     },
     "metadata": {
      "needs_background": "light"
     },
     "output_type": "display_data"
    }
   ],
   "source": [
    "plt.plot(history2.history['accuracy'], label='accuracy')\n",
    "plt.plot(history2.history['val_accuracy'], label = 'val_accuracy')\n",
    "plt.xlabel('Epoch')\n",
    "plt.ylabel('Accuracy')\n",
    "plt.ylim([0.5, 1])\n",
    "plt.legend(loc='lower right')"
   ]
  },
  {
   "cell_type": "markdown",
   "id": "dc947031",
   "metadata": {},
   "source": [
    "In the plot above we can see that our test accuracy was lower than in the cnn of part 3, but the more important val_accuracy increased which is exectly what we wanted."
   ]
  },
  {
   "cell_type": "code",
   "execution_count": null,
   "id": "433a186b",
   "metadata": {},
   "outputs": [],
   "source": []
  }
 ],
 "metadata": {
  "kernelspec": {
   "display_name": "Python 3 (ipykernel)",
   "language": "python",
   "name": "python3"
  },
  "language_info": {
   "codemirror_mode": {
    "name": "ipython",
    "version": 3
   },
   "file_extension": ".py",
   "mimetype": "text/x-python",
   "name": "python",
   "nbconvert_exporter": "python",
   "pygments_lexer": "ipython3",
   "version": "3.8.3"
  }
 },
 "nbformat": 4,
 "nbformat_minor": 5
}
