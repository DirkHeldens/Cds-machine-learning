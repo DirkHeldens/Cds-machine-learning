{
 "cells": [
  {
   "cell_type": "code",
   "execution_count": 104,
   "id": "bb9348ca",
   "metadata": {},
   "outputs": [],
   "source": [
    "# Init\n",
    "import numpy as np\n",
    "from scipy.stats import multivariate_normal\n",
    "from scipy.stats import mode\n",
    "import sklearn\n",
    "from sklearn.metrics import confusion_matrix\n",
    "import matplotlib.pyplot as plt\n",
    "import pandas as pd"
   ]
  },
  {
   "cell_type": "code",
   "execution_count": 190,
   "id": "7803e9ca",
   "metadata": {},
   "outputs": [],
   "source": [
    "class EM:\n",
    "    def __init__(self, clusters, max_iter=5):\n",
    "        self.cluster_amount = clusters\n",
    "        self.max_iter = int(max_iter)\n",
    "\n",
    "    def initialize(self, X):\n",
    "        # NxM \n",
    "        self.n, self.m = X.shape\n",
    "        \n",
    "        # Weight Vals\n",
    "        self.phi = np.full(shape=self.cluster_amount, fill_value=1/self.cluster_amount)\n",
    "        self.weights = np.full(X.shape, 1/self.cluster_amount)\n",
    "        \n",
    "        # Dist\n",
    "        random_row = np.random.randint(low=0, high=self.n, size=self.cluster_amount)\n",
    "        self.mu = [  X[row_index,:] for row_index in random_row ]\n",
    "        self.sigma = [ np.cov(X.T) for _ in range(self.cluster_amount) ]\n",
    "\n",
    "    def e_step(self, X):\n",
    "        # update weights and phi \n",
    "        self.weights = self.predict_proba(X)\n",
    "        self.phi = self.weights.mean(axis=0)\n",
    "    \n",
    "    def m_step(self, X):\n",
    "        # update mu and sigma \n",
    "        for i in range(self.cluster_amount):\n",
    "            weight = self.weights[:, [i]]\n",
    "            total_weight = np.sum(weight)\n",
    "            self.mu[i] = (X * weight).sum(axis=0) / total_weight\n",
    "            self.sigma[i] = np.cov(X.T, \n",
    "                aweights=(weight/total_weight).flatten(), \n",
    "                bias=True)\n",
    "        # Save this iteration image on disk\n",
    "        self.plot_progress(X)\n",
    "                        \n",
    "\n",
    "    def fit(self, X):\n",
    "        # Can't do in _init_\n",
    "        self.initialize(X)\n",
    "        self.iteration = 0\n",
    "        for iteration in range(self.max_iter):\n",
    "            self.iteration = iteration\n",
    "            self.e_step(X)\n",
    "            self.m_step(X)\n",
    "            \n",
    "    def predict_proba(self, X):\n",
    "        # Empty array\n",
    "        likelihood = np.zeros( (self.n, self.cluster_amount) )\n",
    "        for i in range(self.cluster_amount):\n",
    "            distribution = multivariate_normal(\n",
    "                mean=self.mu[i], \n",
    "                cov=self.sigma[i])\n",
    "            # Fill array with probability density function\n",
    "            likelihood[:,i] = distribution.pdf(X)\n",
    "        \n",
    "        numerator = likelihood * self.phi\n",
    "        denominator = numerator.sum(axis=1)[:, np.newaxis]\n",
    "        \n",
    "        # New weights\n",
    "        return (numerator / denominator)\n",
    "    \n",
    "    def predict(self, X):\n",
    "        weights = self.predict_proba(X)\n",
    "        # Argmax after step M\n",
    "        return np.argmax(weights, axis=1)\n",
    "    \n",
    "    def plot_progress(self, X): \n",
    "        permutation = np.array([mode(X[:,1][self.predict(X) == i]).mode.item() for i in range(self.cluster_amount)])\n",
    "        clusters = permutation[self.predict(X)]\n",
    "        \n",
    "        plt.title('EM Clusters at: ' + str(self.iteration))\n",
    "        plt.xlabel('Waiting')\n",
    "        plt.ylabel('Eruption')\n",
    "        plt.scatter(\n",
    "            X[:, 0], \n",
    "            X[:, 1], \n",
    "            c=clusters, \n",
    "            cmap=plt.cm.get_cmap('brg'),\n",
    "            marker='x')\n",
    "        plt.plot()\n",
    "        #Save plot to Image dir. In this dir we provide example outcomes with local optima, and preferred optima \n",
    "        plt.savefig('Images/EM_Clusters_at_{}.png'.format(self.iteration))"
   ]
  },
  {
   "cell_type": "code",
   "execution_count": 188,
   "id": "be3140d6",
   "metadata": {},
   "outputs": [],
   "source": [
    "X = data = pd.read_csv('faithful.csv')\n",
    "X = X.iloc[: , 1:]\n",
    "\n",
    "X = X.to_numpy()\n"
   ]
  },
  {
   "cell_type": "code",
   "execution_count": 189,
   "id": "bb560c00",
   "metadata": {},
   "outputs": [
    {
     "data": {
      "image/png": "[encoded data removed]",
      "text/plain": [
       "<Figure size 432x288 with 1 Axes>"
      ]
     },
     "metadata": {
      "needs_background": "light"
     },
     "output_type": "display_data"
    }
   ],
   "source": [
    "em = EM(clusters=2, max_iter=20)\n",
    "em.fit(X)"
   ]
  },
  {
   "cell_type": "code",
   "execution_count": null,
   "id": "6a284b74",
   "metadata": {},
   "outputs": [],
   "source": []
  }
 ],
 "metadata": {
  "kernelspec": {
   "display_name": "Python 3 (ipykernel)",
   "language": "python",
   "name": "python3"
  },
  "language_info": {
   "codemirror_mode": {
    "name": "ipython",
    "version": 3
   },
   "file_extension": ".py",
   "mimetype": "text/x-python",
   "name": "python",
   "nbconvert_exporter": "python",
   "pygments_lexer": "ipython3",
   "version": "3.8.3"
  }
 },
 "nbformat": 4,
 "nbformat_minor": 5
}
