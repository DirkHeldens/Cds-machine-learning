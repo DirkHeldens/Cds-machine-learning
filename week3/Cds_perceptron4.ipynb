{
 "cells": [
  {
   "cell_type": "code",
   "execution_count": 69,
   "id": "f53bb084",
   "metadata": {},
   "outputs": [],
   "source": [
    "import numpy as np\n",
    "import matplotlib.pyplot as plt\n",
    "import scipy.special\n",
    "import math"
   ]
  },
  {
   "cell_type": "code",
   "execution_count": 70,
   "id": "0740f65d",
   "metadata": {},
   "outputs": [],
   "source": [
    "def delta(p,eps):\n",
    "    return (4*m*(2*p)*np.exp(-((eps**2)*p)/8))"
   ]
  },
  {
   "cell_type": "code",
   "execution_count": 82,
   "id": "22e5c944",
   "metadata": {},
   "outputs": [],
   "source": [
    "def epsilon(N,P, delta):\n",
    "    first_log = (math.e*P)/N\n",
    "    return np.sqrt(-(8/P)*(-N*np.log(first_log)+(np.log(delta/4))))"
   ]
  },
  {
   "cell_type": "code",
   "execution_count": 83,
   "id": "1501fb60",
   "metadata": {},
   "outputs": [],
   "source": [
    "# def C(N,P):\n",
    "#     return ((math.e*P)/N)**N"
   ]
  },
  {
   "cell_type": "code",
   "execution_count": 84,
   "id": "53e2f412",
   "metadata": {},
   "outputs": [
    {
     "name": "stdout",
     "output_type": "stream",
     "text": [
      "12510960\n"
     ]
    }
   ],
   "source": [
    "# exercise 4.A\n",
    "# start i form 50 because bound is defined P > N\n",
    "i = 50\n",
    "eps = 1\n",
    "while(eps > 0.01):\n",
    "    eps = epsilon(10,i,0.01)\n",
    "    i += 10\n",
    "    \n",
    "print(i)\n",
    "    "
   ]
  },
  {
   "cell_type": "code",
   "execution_count": 85,
   "id": "8e9c7195",
   "metadata": {},
   "outputs": [
    {
     "name": "stdout",
     "output_type": "stream",
     "text": [
      "10.0\n",
      "12511070\n",
      "20.0\n",
      "24509570\n",
      "30.0\n",
      "36507870\n",
      "40.0\n",
      "48506070\n",
      "50.0\n",
      "60504270\n"
     ]
    }
   ],
   "source": [
    "# Make i steps bigger because it's a large number and +1 is to much computing\n",
    "i = 70\n",
    "n_range = np.linspace(10, 50, num=5)\n",
    "\n",
    "for n in n_range:\n",
    "    print(n)\n",
    "    eps = 1\n",
    "    while(eps > 0.01):\n",
    "        eps = epsilon(n,i,0.01)\n",
    "        i += 100\n",
    "    \n",
    "    print(i)"
   ]
  },
  {
   "cell_type": "code",
   "execution_count": 100,
   "id": "6feaa66c",
   "metadata": {},
   "outputs": [
    {
     "name": "stdout",
     "output_type": "stream",
     "text": [
      "[-1.29767963e+00 -4.89359772e-01 -1.31247707e-03 -3.46309942e-01\n",
      " -3.77639923e-01  1.12938632e+00  4.72742328e-01 -3.93357036e-01\n",
      "  8.18221838e-02 -1.42021115e+00]\n"
     ]
    }
   ],
   "source": [
    "# Exercise B\n",
    "N =10\n",
    "P = 10\n",
    "\n",
    "XI = np.random.choice([-1, 1], size=(N,P))\n",
    "\n",
    "W_0 = np.random.normal(0, 1, size=(N,))"
   ]
  },
  {
   "cell_type": "code",
   "execution_count": 125,
   "id": "d56007ff",
   "metadata": {},
   "outputs": [],
   "source": [
    "def y(j, N):\n",
    "    sign_sum = 0\n",
    "    for i in range(0, N-1):\n",
    "        sign_sum += XI[i][j] * W_0[i]\n",
    "    return np.sign(sign_sum)"
   ]
  },
  {
   "cell_type": "code",
   "execution_count": 126,
   "id": "0f6dc491",
   "metadata": {},
   "outputs": [
    {
     "name": "stdout",
     "output_type": "stream",
     "text": [
      "-1.0\n",
      "1.0\n",
      "-1.0\n",
      "1.0\n",
      "-1.0\n",
      "-1.0\n",
      "1.0\n",
      "-1.0\n",
      "-1.0\n"
     ]
    }
   ],
   "source": [
    "y_vector = []\n",
    "for j in range(0,P-1):\n",
    "    y_vector.append(y(j,N))\n",
    "    print(y(j,N))"
   ]
  },
  {
   "cell_type": "code",
   "execution_count": null,
   "id": "37651ece",
   "metadata": {},
   "outputs": [],
   "source": []
  }
 ],
 "metadata": {
  "kernelspec": {
   "display_name": "Python 3 (ipykernel)",
   "language": "python",
   "name": "python3"
  },
  "language_info": {
   "codemirror_mode": {
    "name": "ipython",
    "version": 3
   },
   "file_extension": ".py",
   "mimetype": "text/x-python",
   "name": "python",
   "nbconvert_exporter": "python",
   "pygments_lexer": "ipython3",
   "version": "3.8.3"
  }
 },
 "nbformat": 4,
 "nbformat_minor": 5
}
