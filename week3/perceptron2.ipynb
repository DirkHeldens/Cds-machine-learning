{
 "cells": [
  {
   "cell_type": "code",
   "execution_count": 69,
   "id": "f02052c1-a6d9-429b-8af3-f8587e261f87",
   "metadata": {},
   "outputs": [],
   "source": [
    "import numpy as np\n",
    "import matplotlib.pyplot as plt\n",
    "import scipy.special\n",
    "import math"
   ]
  },
  {
   "cell_type": "code",
   "execution_count": 70,
   "id": "2e6f1247-10b4-4a2e-9516-8c80435fad3e",
   "metadata": {},
   "outputs": [],
   "source": [
    "def delta(p,eps):\n",
    "    return (4*m*(2*p)*np.exp(-((eps**2)*p)/8))"
   ]
  },
  {
   "cell_type": "code",
   "execution_count": 71,
   "id": "e0a06512-4117-42f4-868e-6e327995040c",
   "metadata": {},
   "outputs": [],
   "source": [
    "def epsilon(N,P, delta):\n",
    "    a = (delta)\n",
    "    b = (4*C(N,2*P))\n",
    "    return np.sqrt(-(8/P)*np.log(a/b))"
   ]
  },
  {
   "cell_type": "code",
   "execution_count": 72,
   "id": "a4905941-1329-482c-b10a-05298050cb2b",
   "metadata": {},
   "outputs": [],
   "source": [
    "def C(N,P):\n",
    "    return ((math.e*P)/N)**N"
   ]
  },
  {
   "cell_type": "code",
   "execution_count": 74,
   "id": "7c0e68c8-7962-4194-8e25-bf5d7f785e44",
   "metadata": {},
   "outputs": [
    {
     "name": "stdout",
     "output_type": "stream",
     "text": [
      "13102430\n"
     ]
    }
   ],
   "source": [
    "# exercise 4.A\n",
    "# start i form 50 because bound is defined P > N\n",
    "i = 50\n",
    "eps = 1\n",
    "while(eps > 0.01):\n",
    "    eps = epsilon(10,i,0.01)\n",
    "    i += 10\n",
    "    \n",
    "print(i)\n",
    "    "
   ]
  },
  {
   "cell_type": "code",
   "execution_count": null,
   "id": "466bd93a-5efe-44a2-8ee7-6371ca9d5f58",
   "metadata": {},
   "outputs": [
    {
     "name": "stdout",
     "output_type": "stream",
     "text": [
      "10.0\n",
      "13102570\n",
      "20.0\n",
      "25694170\n",
      "30.0\n",
      "38285570\n",
      "40.0\n",
      "50876870\n",
      "50.0\n"
     ]
    },
    {
     "name": "stderr",
     "output_type": "stream",
     "text": [
      "C:\\Users\\ylja0\\AppData\\Local\\Temp/ipykernel_12872/153862956.py:2: RuntimeWarning: overflow encountered in double_scalars\n",
      "  return ((math.e*P)/N)**N\n",
      "C:\\Users\\ylja0\\AppData\\Local\\Temp/ipykernel_12872/805673817.py:4: RuntimeWarning: divide by zero encountered in log\n",
      "  return np.sqrt(-(8/P)*np.log(a/b))\n"
     ]
    }
   ],
   "source": [
    "# Make i steps bigger because it's a large number and +1 is to much computing\n",
    "i = 70\n",
    "n_range = np.linspace(10, 50, num=5)\n",
    "\n",
    "for n in n_range:\n",
    "    print(n)\n",
    "    eps = 1\n",
    "    while(eps > 0.01):\n",
    "        eps = epsilon(n,i,0.01)\n",
    "        i += 100\n",
    "    \n",
    "    print(i)"
   ]
  },
  {
   "cell_type": "code",
   "execution_count": 61,
   "id": "02d077f0-fed3-4621-9e71-8548e75136b0",
   "metadata": {},
   "outputs": [
    {
     "name": "stderr",
     "output_type": "stream",
     "text": [
      "C:\\Users\\ylja0\\AppData\\Local\\Temp/ipykernel_12872/2601640643.py:2: RuntimeWarning: overflow encountered in double_scalars\n",
      "  return (math.e*P/N)**N\n",
      "C:\\Users\\ylja0\\AppData\\Local\\Temp/ipykernel_12872/805673817.py:4: RuntimeWarning: divide by zero encountered in log\n",
      "  return np.sqrt(-(8/P)*np.log(a/b))\n"
     ]
    },
    {
     "data": {
      "text/plain": [
       "inf"
      ]
     },
     "execution_count": 61,
     "metadata": {},
     "output_type": "execute_result"
    }
   ],
   "source": []
  },
  {
   "cell_type": "code",
   "execution_count": null,
   "id": "e49d2cc5-d296-4fab-aa49-4100158a00df",
   "metadata": {},
   "outputs": [],
   "source": []
  }
 ],
 "metadata": {
  "kernelspec": {
   "display_name": "Python 3 (ipykernel)",
   "language": "python",
   "name": "python3"
  },
  "language_info": {
   "codemirror_mode": {
    "name": "ipython",
    "version": 3
   },
   "file_extension": ".py",
   "mimetype": "text/x-python",
   "name": "python",
   "nbconvert_exporter": "python",
   "pygments_lexer": "ipython3",
   "version": "3.9.5"
  }
 },
 "nbformat": 4,
 "nbformat_minor": 5
}
