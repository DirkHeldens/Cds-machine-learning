{
 "cells": [
  {
   "cell_type": "code",
   "execution_count": 69,
   "id": "f02052c1-a6d9-429b-8af3-f8587e261f87",
   "metadata": {},
   "outputs": [],
   "source": [
    "import numpy as np\n",
    "import matplotlib.pyplot as plt\n",
    "import scipy.special\n",
    "import math"
   ]
  },
  {
   "cell_type": "code",
   "execution_count": 70,
   "id": "2e6f1247-10b4-4a2e-9516-8c80435fad3e",
   "metadata": {},
   "outputs": [],
   "source": [
    "def delta(p,eps):\n",
    "    return (4*m*(2*p)*np.exp(-((eps**2)*p)/8))"
   ]
  },
  {
   "cell_type": "code",
   "execution_count": 82,
   "id": "e0a06512-4117-42f4-868e-6e327995040c",
   "metadata": {},
   "outputs": [],
   "source": [
    "def epsilon(N,P, delta):\n",
    "    first_log = (math.e*P)/N\n",
    "    return np.sqrt(-(8/P)*(-N*np.log(first_log)+(np.log(delta/4))))"
   ]
  },
  {
   "cell_type": "code",
   "execution_count": 83,
   "id": "a4905941-1329-482c-b10a-05298050cb2b",
   "metadata": {},
   "outputs": [],
   "source": [
    "# def C(N,P):\n",
    "#     return ((math.e*P)/N)**N"
   ]
  },
  {
   "cell_type": "code",
   "execution_count": 84,
   "id": "7c0e68c8-7962-4194-8e25-bf5d7f785e44",
   "metadata": {},
   "outputs": [
    {
     "name": "stdout",
     "output_type": "stream",
     "text": [
      "12510960\n"
     ]
    }
   ],
   "source": [
    "# exercise 4.A\n",
    "# start i form 50 because bound is defined P > N\n",
    "i = 50\n",
    "eps = 1\n",
    "while(eps > 0.01):\n",
    "    eps = epsilon(10,i,0.01)\n",
    "    i += 10\n",
    "    \n",
    "print(i)\n",
    "    "
   ]
  },
  {
   "cell_type": "code",
   "execution_count": 85,
   "id": "466bd93a-5efe-44a2-8ee7-6371ca9d5f58",
   "metadata": {},
   "outputs": [
    {
     "name": "stdout",
     "output_type": "stream",
     "text": [
      "10.0\n",
      "12511070\n",
      "20.0\n",
      "24509570\n",
      "30.0\n",
      "36507870\n",
      "40.0\n",
      "48506070\n",
      "50.0\n",
      "60504270\n"
     ]
    }
   ],
   "source": [
    "# Make i steps bigger because it's a large number and +1 is to much computing\n",
    "i = 70\n",
    "n_range = np.linspace(10, 50, num=5)\n",
    "\n",
    "for n in n_range:\n",
    "    print(n)\n",
    "    eps = 1\n",
    "    while(eps > 0.01):\n",
    "        eps = epsilon(n,i,0.01)\n",
    "        i += 100\n",
    "    \n",
    "    print(i)"
   ]
  },
  {
   "cell_type": "code",
   "execution_count": 100,
   "id": "02d077f0-fed3-4621-9e71-8548e75136b0",
   "metadata": {},
   "outputs": [
    {
     "name": "stdout",
     "output_type": "stream",
     "text": [
      "[-1.29767963e+00 -4.89359772e-01 -1.31247707e-03 -3.46309942e-01\n",
      " -3.77639923e-01  1.12938632e+00  4.72742328e-01 -3.93357036e-01\n",
      "  8.18221838e-02 -1.42021115e+00]\n"
     ]
    }
   ],
   "source": [
    "# Exercise B\n",
    "N =10\n",
    "P = 10\n",
    "\n",
    "XI = np.random.choice([-1, 1], size=(N,P))\n",
    "\n",
    "W_0 = np.random.normal(0, 1, size=(N,))"
   ]
  },
  {
   "cell_type": "code",
   "execution_count": 125,
   "id": "e49d2cc5-d296-4fab-aa49-4100158a00df",
   "metadata": {},
   "outputs": [],
   "source": [
    "def y(j, N):\n",
    "    sign_sum = 0\n",
    "    for i in range(0, N-1):\n",
    "        sign_sum += XI[i][j] * W_0[i]\n",
    "    return np.sign(sign_sum)"
   ]
  },
  {
   "cell_type": "code",
   "execution_count": 126,
   "id": "d9d785b6-7360-4087-a3e8-256939fe0e88",
   "metadata": {},
   "outputs": [
    {
     "name": "stdout",
     "output_type": "stream",
     "text": [
      "-1.0\n",
      "1.0\n",
      "-1.0\n",
      "1.0\n",
      "-1.0\n",
      "-1.0\n",
      "1.0\n",
      "-1.0\n",
      "-1.0\n"
     ]
    }
   ],
   "source": [
    "y_vector = []\n",
    "for j in range(0,P-1):\n",
    "    y_vector.append(y(j,N))\n",
    "    print(y(j,N))"
   ]
  },
  {
   "cell_type": "code",
   "execution_count": null,
   "id": "203bcde3-71b5-425c-a2f6-cfd72d1781f6",
   "metadata": {},
   "outputs": [],
   "source": []
  }
 ],
 "metadata": {
  "kernelspec": {
   "display_name": "Python 3 (ipykernel)",
   "language": "python",
   "name": "python3"
  },
  "language_info": {
   "codemirror_mode": {
    "name": "ipython",
    "version": 3
   },
   "file_extension": ".py",
   "mimetype": "text/x-python",
   "name": "python",
   "nbconvert_exporter": "python",
   "pygments_lexer": "ipython3",
   "version": "3.9.5"
  }
 },
 "nbformat": 4,
 "nbformat_minor": 5
}
