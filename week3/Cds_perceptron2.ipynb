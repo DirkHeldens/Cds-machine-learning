{
 "cells": [
  {
   "cell_type": "code",
   "execution_count": 5,
   "id": "b2c5f713",
   "metadata": {},
   "outputs": [
    {
     "name": "stdout",
     "output_type": "stream",
     "text": [
      "Requirement already satisfied: matplotlib in c:\\users\\ylja0\\miniconda3\\lib\\site-packages (3.4.3)\n",
      "Requirement already satisfied: cycler>=0.10 in c:\\users\\ylja0\\miniconda3\\lib\\site-packages (from matplotlib) (0.10.0)\n",
      "Requirement already satisfied: pillow>=6.2.0 in c:\\users\\ylja0\\miniconda3\\lib\\site-packages (from matplotlib) (8.3.2)\n",
      "Requirement already satisfied: python-dateutil>=2.7 in c:\\users\\ylja0\\miniconda3\\lib\\site-packages (from matplotlib) (2.8.2)\n",
      "Requirement already satisfied: kiwisolver>=1.0.1 in c:\\users\\ylja0\\miniconda3\\lib\\site-packages (from matplotlib) (1.3.2)\n",
      "Requirement already satisfied: pyparsing>=2.2.1 in c:\\users\\ylja0\\miniconda3\\lib\\site-packages (from matplotlib) (2.4.7)\n",
      "Requirement already satisfied: numpy>=1.16 in c:\\users\\ylja0\\miniconda3\\lib\\site-packages (from matplotlib) (1.21.2)\n",
      "Requirement already satisfied: six in c:\\users\\ylja0\\miniconda3\\lib\\site-packages (from cycler>=0.10->matplotlib) (1.16.0)\n"
     ]
    }
   ],
   "source": [
    "import numpy as np\n",
    "import random as rand\n",
    "import random\n",
    "!pip install matplotlib\n",
    "import matplotlib.pyplot as plt"
   ]
  },
  {
   "cell_type": "code",
   "execution_count": 6,
   "id": "82a1d0c9",
   "metadata": {},
   "outputs": [
    {
     "name": "stdout",
     "output_type": "stream",
     "text": [
      "10.0\n",
      "20.0\n",
      "30.0\n",
      "40.0\n",
      "50.0\n",
      "60.0\n",
      "70.0\n",
      "80.0\n",
      "90.0\n",
      "100.0\n",
      "110.0\n",
      "120.0\n",
      "[(10.0, 0.0), (20.0, 0.0), (30.0, 0.0), (40.0, 0.0), (50.0, 0.0), (60.0, 0.0), (70.0, 0.0), (80.0, 0.0), (90.0, 0.0), (100.0, 1.0), (110.0, 1.0), (120.0, 1.0)]\n"
     ]
    }
   ],
   "source": [
    "# Arrange the p values\n",
    "p_range = np.linspace(10, 120, num=12)\n",
    "\n",
    "# Used to print the final results\n",
    "final = []\n",
    "\n",
    "for p in p_range:\n",
    "    # Variable init\n",
    "    print(p)\n",
    "    fail_counter = 0\n",
    "    vector = []\n",
    "    y = []\n",
    "    l_r = 0.1\n",
    "    N = 50\n",
    "    \n",
    "    # Assign values to X and Y\n",
    "    for _ in range(int(p)):\n",
    "        x = np.random.choice([0, 1], size=(N,))\n",
    "        temp_y = random.choice([-1, 1])\n",
    "        y.append(temp_y)\n",
    "        vector.append(x)\n",
    "\n",
    "    # Set Weights\n",
    "    w = np.random.uniform(low=0.1, high=1, size=(N,))\n",
    "    \n",
    "    # Amount of epochs\n",
    "    for i in range(100):\n",
    "        \n",
    "        not_converged = True\n",
    "        counter  = 0\n",
    "        \n",
    "        # Check if it converged \n",
    "        while(not_converged):\n",
    "            not_converged = False\n",
    "        #     print(w)\n",
    "            counter += 1\n",
    "            \n",
    "            #Stop trying after 1000 attempts\n",
    "            if(counter == 1000):\n",
    "                fail_counter += 1\n",
    "#                 print('can not converge')\n",
    "                break\n",
    "                \n",
    "            # Update rule\n",
    "            for j in range(len(vector)):\n",
    "                x = (vector[j] * y[j])\n",
    "                wx = w @ x\n",
    "                if wx > 0:\n",
    "                    continue\n",
    "                else:\n",
    "                    not_converged = True\n",
    "                    w += l_r*x\n",
    "    final.append((p,(fail_counter/100)))\n",
    "print(final)\n",
    "# f = (vector @ w) * y\n",
    "# print(f)"
   ]
  },
  {
   "cell_type": "code",
   "execution_count": 8,
   "id": "ecd5f9f3",
   "metadata": {},
   "outputs": [
    {
     "name": "stdout",
     "output_type": "stream",
     "text": [
      "[10.0, 20.0, 30.0, 40.0, 50.0, 60.0, 70.0, 80.0, 90.0, 100.0, 110.0, 120.0]\n"
     ]
    },
    {
     "data": {
      "image/png": "[encoded data removed]",
      "text/plain": [
       "<Figure size 432x288 with 1 Axes>"
      ]
     },
     "metadata": {
      "needs_background": "light"
     },
     "output_type": "display_data"
    }
   ],
   "source": [
    "x_val = [x[0] for x in final]\n",
    "y_val = [x[1] for x in final]\n",
    "\n",
    "print(x_val)\n",
    "plt.xlabel(\"P value\")\n",
    "plt.ylabel(\"Error from 0 to 1\")\n",
    "plt.gca().invert_yaxis()\n",
    "plt.plot(x_val,y_val)\n",
    "plt.plot(x_val,y_val,'or')\n",
    "plt.show()"
   ]
  },
  {
   "cell_type": "code",
   "execution_count": null,
   "id": "ff8b4a5f",
   "metadata": {},
   "outputs": [],
   "source": []
  }
 ],
 "metadata": {
  "kernelspec": {
   "display_name": "Python 3 (ipykernel)",
   "language": "python",
   "name": "python3"
  },
  "language_info": {
   "codemirror_mode": {
    "name": "ipython",
    "version": 3
   },
   "file_extension": ".py",
   "mimetype": "text/x-python",
   "name": "python",
   "nbconvert_exporter": "python",
   "pygments_lexer": "ipython3",
   "version": "3.8.3"
  }
 },
 "nbformat": 4,
 "nbformat_minor": 5
}
