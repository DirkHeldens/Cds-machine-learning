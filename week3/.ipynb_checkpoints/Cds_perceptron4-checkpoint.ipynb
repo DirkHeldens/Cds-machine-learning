{
 "cells": [
  {
   "cell_type": "code",
   "execution_count": 65,
   "id": "794f3c30",
   "metadata": {},
   "outputs": [],
   "source": [
    "import numpy as np\n",
    "import matplotlib.pyplot as plt\n",
    "import scipy.special\n",
    "import math"
   ]
  },
  {
   "cell_type": "code",
   "execution_count": 66,
   "id": "dc1fae56",
   "metadata": {},
   "outputs": [],
   "source": [
    "def delta(p,eps):\n",
    "    return (4*m*(2*p)*np.exp(-((eps**2)*p)/8))"
   ]
  },
  {
   "cell_type": "code",
   "execution_count": 67,
   "id": "96357f41",
   "metadata": {},
   "outputs": [],
   "source": [
    "def epsilon(N,P, delta):\n",
    "    first_log = (math.e*P)/N\n",
    "    return np.sqrt(-(8/P)*(-N*np.log(first_log)+(np.log(delta/4))))"
   ]
  },
  {
   "cell_type": "code",
   "execution_count": 68,
   "id": "793f33c1",
   "metadata": {},
   "outputs": [],
   "source": [
    "# def C(N,P):\n",
    "#     return ((math.e*P)/N)**N"
   ]
  },
  {
   "cell_type": "code",
   "execution_count": 69,
   "id": "926f2e44",
   "metadata": {},
   "outputs": [
    {
     "name": "stdout",
     "output_type": "stream",
     "text": [
      "12510960\n"
     ]
    }
   ],
   "source": [
    "# exercise 4.A\n",
    "# start i form 50 because bound is defined P > N\n",
    "i = 50\n",
    "eps = 1\n",
    "while(eps > 0.01):\n",
    "    eps = epsilon(10,i,0.01)\n",
    "    i += 10\n",
    "    \n",
    "print(i)\n",
    "    "
   ]
  },
  {
   "cell_type": "code",
   "execution_count": 70,
   "id": "e6d2a74a",
   "metadata": {},
   "outputs": [
    {
     "name": "stdout",
     "output_type": "stream",
     "text": [
      "10.0\n",
      "12511070\n",
      "20.0\n",
      "24509570\n",
      "30.0\n",
      "36507870\n",
      "40.0\n",
      "48506070\n",
      "50.0\n",
      "60504270\n"
     ]
    }
   ],
   "source": [
    "# Make i steps bigger because it's a large number and +1 is to much computing\n",
    "i = 70\n",
    "n_range = np.linspace(10, 50, num=5)\n",
    "\n",
    "for n in n_range:\n",
    "    print(n)\n",
    "    eps = 1\n",
    "    while(eps > 0.01):\n",
    "        eps = epsilon(n,i,0.01)\n",
    "        i += 100\n",
    "    \n",
    "    print(i)"
   ]
  },
  {
   "cell_type": "code",
   "execution_count": 71,
   "id": "07e37091",
   "metadata": {},
   "outputs": [],
   "source": [
    "# Exercise B\n",
    "N =10\n",
    "P = 10\n",
    "\n",
    "XI = np.random.choice([-1, 1], size=(N,P))\n",
    "\n",
    "W_0 = np.random.normal(0, 1, size=(N,))"
   ]
  },
  {
   "cell_type": "code",
   "execution_count": 72,
   "id": "16856970",
   "metadata": {},
   "outputs": [],
   "source": [
    "def y(j, N):\n",
    "    sign_sum = 0\n",
    "    for i in range(0, N-1):\n",
    "        sign_sum += XI[i][j] * W_0[i]\n",
    "    return np.sign(sign_sum)\n",
    "\n",
    "def t(j, N):\n",
    "    sign_sum = 0\n",
    "    for i in range(0, N-1):\n",
    "        sign_sum += XI_test[i][j] * W_0_test[i]\n",
    "    return np.sign(sign_sum)"
   ]
  },
  {
   "cell_type": "code",
   "execution_count": 73,
   "id": "f6f11eb8",
   "metadata": {},
   "outputs": [
    {
     "name": "stdout",
     "output_type": "stream",
     "text": [
      "-1.0\n",
      "1.0\n",
      "1.0\n",
      "1.0\n",
      "1.0\n",
      "-1.0\n",
      "1.0\n",
      "1.0\n",
      "-1.0\n"
     ]
    }
   ],
   "source": [
    "y_vector = []\n",
    "for j in range(0,P-1):\n",
    "    y_vector.append(y(j,N))\n",
    "    print(y(j,N))"
   ]
  },
  {
   "cell_type": "code",
   "execution_count": 74,
   "id": "87aa69f8",
   "metadata": {},
   "outputs": [],
   "source": [
    "t_vector = []\n",
    "\n",
    "T_P = 10000\n",
    "\n",
    "XI_test = np.random.choice([-1, 1], size=(N,T_P))\n",
    "\n",
    "W_0_test = np.random.normal(0, 1, size=(N,))\n",
    "\n",
    "for j in range(0,T_P-1):\n",
    "    t_vector.append(t(j,N)) "
   ]
  },
  {
   "cell_type": "code",
   "execution_count": 75,
   "id": "febb5161",
   "metadata": {},
   "outputs": [],
   "source": [
    "n_learning_runs=100"
   ]
  },
  {
   "cell_type": "code",
   "execution_count": 102,
   "id": "3733e0ea",
   "metadata": {},
   "outputs": [
    {
     "name": "stdout",
     "output_type": "stream",
     "text": [
      "[(10, 0.0), (50, 0.0), (100, 0.0), (500, 0.0), (1000, 0.0)]\n"
     ]
    }
   ],
   "source": [
    "p_range = [10,50,100,500,1000]\n",
    "\n",
    "final = []\n",
    "\n",
    "wx = 0\n",
    "\n",
    "new_w = []\n",
    "\n",
    "for p in p_range:\n",
    "    fail_counter = 0\n",
    "    vector = []\n",
    "    l_r = 0.1\n",
    "    N = 10\n",
    "    \n",
    "    for _ in range(int(p)):\n",
    "        x = np.random.choice([0, 1], size=(N,))\n",
    "        vector.append(x)\n",
    "        \n",
    "    w = np.random.uniform(low=0.1, high=1, size=(N,))\n",
    "    \n",
    "    for i in range(n_learning_runs):\n",
    "        \n",
    "        not_converged = True\n",
    "        counter  = 0\n",
    "        \n",
    "        while(not_converged):\n",
    "            not_converged = False\n",
    "            counter += 1\n",
    "            \n",
    "            #Stop trying after 1000 attempts\n",
    "            if(counter == 1000):\n",
    "                fail_counter += 1\n",
    "                break\n",
    "                \n",
    "            for j in range(len(y_vector)):\n",
    "                x = (vector[j] * y_vector[j])\n",
    "                wx = w @ x\n",
    "                if wx > 0:\n",
    "                    continue\n",
    "                else:\n",
    "                    not_converged = True\n",
    "                    w += l_r*x\n",
    "                    \n",
    "        new_w.append(w)\n",
    "\n",
    "    final.append((p,(fail_counter/100)))\n",
    "print(final)"
   ]
  },
  {
   "cell_type": "code",
   "execution_count": 105,
   "id": "6888be9b",
   "metadata": {},
   "outputs": [
    {
     "name": "stdout",
     "output_type": "stream",
     "text": [
      "True values: 4479\n",
      "False values: 5520\n"
     ]
    }
   ],
   "source": [
    "xi_trans  = np.transpose(XI_test)\n",
    "\n",
    "true_vals = 0\n",
    "\n",
    "neg_vals = 0\n",
    "\n",
    "for i in range(T_P-1): \n",
    "    sign = np.sign(new_w[0] @ xi_trans[i]) \n",
    "    if t_vector[i] == sign:\n",
    "        true_vals += 1\n",
    "    else:\n",
    "        neg_vals += 1\n",
    "\n",
    "print(\"True values: \" + str(true_vals))\n",
    "print(\"False values: \" + str(neg_vals))"
   ]
  },
  {
   "cell_type": "code",
   "execution_count": null,
   "id": "d8a21c2f",
   "metadata": {},
   "outputs": [],
   "source": []
  },
  {
   "cell_type": "code",
   "execution_count": null,
   "id": "c3590861",
   "metadata": {},
   "outputs": [],
   "source": []
  }
 ],
 "metadata": {
  "kernelspec": {
   "display_name": "Python 3 (ipykernel)",
   "language": "python",
   "name": "python3"
  },
  "language_info": {
   "codemirror_mode": {
    "name": "ipython",
    "version": 3
   },
   "file_extension": ".py",
   "mimetype": "text/x-python",
   "name": "python",
   "nbconvert_exporter": "python",
   "pygments_lexer": "ipython3",
   "version": "3.8.3"
  }
 },
 "nbformat": 4,
 "nbformat_minor": 5
}
